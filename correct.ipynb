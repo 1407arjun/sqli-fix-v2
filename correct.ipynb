{
 "cells": [
  {
   "cell_type": "code",
   "execution_count": 146,
   "metadata": {},
   "outputs": [],
   "source": [
    "import nltk\n",
    "from nltk.tokenize import RegexpTokenizer"
   ]
  },
  {
   "cell_type": "code",
   "execution_count": 147,
   "metadata": {},
   "outputs": [],
   "source": [
    "query = \"SELECT * FROM orders WHERE order_date >= '$start_date' AND order_total < $max_total AND order_status = $status AND order_id IN ($order_ids) AND order_amount BETWEEN :min_amount AND $max_amount AND customer_id = $customer_id AND order_is_active = $is_active\""
   ]
  },
  {
   "cell_type": "code",
   "execution_count": 148,
   "metadata": {},
   "outputs": [],
   "source": [
    "pattern = r'\\$?\\w+'\n",
    "tokenizer = RegexpTokenizer(pattern)\n",
    "tokens = tokenizer.tokenize(query)"
   ]
  },
  {
   "cell_type": "code",
   "execution_count": 149,
   "metadata": {},
   "outputs": [],
   "source": [
    "def sanitize(token):\n",
    "   return token.replace(\"'\", \"''\")"
   ]
  },
  {
   "cell_type": "code",
   "execution_count": 150,
   "metadata": {},
   "outputs": [],
   "source": [
    "variables = []\n",
    "for token in tokens:\n",
    "    if token.startswith(\"$\") and query.index(token) > query.index(\"WHERE\"):\n",
    "        datatype = \"int\"\n",
    "        if \"date\" in token:\n",
    "            datatype = \"date\"\n",
    "        if token.startswith(\"$is\"):\n",
    "            datatype = \"bool\"\n",
    "        if query[query.index(token) - 1] in [\"'\", \"\\\"\"]:\n",
    "            datatype = \"str\"\n",
    "        variables.append((token, datatype))\n"
   ]
  },
  {
   "cell_type": "code",
   "execution_count": 151,
   "metadata": {},
   "outputs": [],
   "source": [
    "pstmt = query\n",
    "for name, datatype in variables:\n",
    "    placeholder = \"?\"\n",
    "    if datatype == \"date\":\n",
    "        placeholder = \"TO_DATE(?, 'YYYY-MM-DD')\"\n",
    "    pstmt = pstmt.replace(name, placeholder, 1)"
   ]
  },
  {
   "cell_type": "code",
   "execution_count": 152,
   "metadata": {},
   "outputs": [
    {
     "name": "stdout",
     "output_type": "stream",
     "text": [
      "Statement type SELECT\n",
      "SELECT * FROM orders WHERE order_date >= '?' AND order_total < ? AND order_status = ? AND order_id IN (?) AND order_amount BETWEEN :min_amount AND ? AND customer_id = ? AND order_is_active = ?\n",
      "bind($start_date, 0)\n",
      "bind($max_total, 1)\n",
      "bind($status, 2)\n",
      "bind($order_ids, 3)\n",
      "bind($max_amount, 4)\n",
      "bind($customer_id, 5)\n",
      "bind($is_active, 6)\n"
     ]
    }
   ],
   "source": [
    "print(\"Statement type\", tokens[0])\n",
    "print(pstmt)\n",
    "for i, var in enumerate(variables):\n",
    "    print(\"bind(\" + var[0] + \", \" + str(i) + \")\")"
   ]
  }
 ],
 "metadata": {
  "kernelspec": {
   "display_name": "sqlifix",
   "language": "python",
   "name": "python3"
  },
  "language_info": {
   "codemirror_mode": {
    "name": "ipython",
    "version": 3
   },
   "file_extension": ".py",
   "mimetype": "text/x-python",
   "name": "python",
   "nbconvert_exporter": "python",
   "pygments_lexer": "ipython3",
   "version": "3.11.2"
  },
  "orig_nbformat": 4
 },
 "nbformat": 4,
 "nbformat_minor": 2
}
